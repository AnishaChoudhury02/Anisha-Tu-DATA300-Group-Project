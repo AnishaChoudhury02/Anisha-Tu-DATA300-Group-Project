{
 "cells": [
  {
   "cell_type": "markdown",
   "id": "2fe52bf5-8c0d-40ee-9f01-673107d0a38b",
   "metadata": {},
   "source": [
    "## PART 1: Data Processing"
   ]
  },
  {
   "cell_type": "markdown",
   "id": "15ce948f-de88-4f32-9605-ca60b7ec50ef",
   "metadata": {},
   "source": [
    "Load data"
   ]
  },
  {
   "cell_type": "code",
   "execution_count": null,
   "id": "293825d0-bf38-4404-8fc1-a5ba73d546d1",
   "metadata": {},
   "outputs": [],
   "source": []
  },
  {
   "cell_type": "code",
   "execution_count": null,
   "id": "031bb373-c9d9-4863-81c0-cf33c54ae892",
   "metadata": {},
   "outputs": [],
   "source": []
  },
  {
   "cell_type": "code",
   "execution_count": null,
   "id": "0bb8ff27-2374-492a-8971-0aa38db80b08",
   "metadata": {},
   "outputs": [],
   "source": []
  },
  {
   "cell_type": "markdown",
   "id": "38ca699a-4bea-44fd-a97c-d770b7ad7199",
   "metadata": {},
   "source": [
    "## Part 2: Feature Selection"
   ]
  },
  {
   "cell_type": "markdown",
   "id": "144ecdd6-2297-4da0-83d3-c487510a5644",
   "metadata": {},
   "source": [
    "In this project, we want our features to be our customers' information (income, purchasing history, etc)."
   ]
  },
  {
   "cell_type": "markdown",
   "id": "16cb0175-9dc5-4708-91d6-0d4f027befc4",
   "metadata": {},
   "source": [
    "## Part 3: Modelling"
   ]
  },
  {
   "cell_type": "code",
   "execution_count": null,
   "id": "a7fdf87b-7d45-4666-b632-c54e8cea5926",
   "metadata": {},
   "outputs": [],
   "source": []
  },
  {
   "cell_type": "markdown",
   "id": "447f53c0-1800-4b87-9606-ea14e8699775",
   "metadata": {},
   "source": [
    "## Part 4: Evaluation"
   ]
  },
  {
   "cell_type": "code",
   "execution_count": null,
   "id": "d309923d-3d9f-4798-9a7a-57e11e35743e",
   "metadata": {},
   "outputs": [],
   "source": []
  },
  {
   "cell_type": "markdown",
   "id": "140398cd-8e04-4bf0-bc9a-bd51675f247e",
   "metadata": {},
   "source": [
    "## Part 5: Hyperparameter Tuning"
   ]
  },
  {
   "cell_type": "code",
   "execution_count": null,
   "id": "6837bcf6-77d1-49e1-b241-8433fa10d2dd",
   "metadata": {},
   "outputs": [],
   "source": []
  },
  {
   "cell_type": "markdown",
   "id": "bc331baf-2fe7-4403-a431-1a4482c9c603",
   "metadata": {},
   "source": [
    "## Part 6: Interpretation"
   ]
  },
  {
   "cell_type": "code",
   "execution_count": null,
   "id": "f4f091e1-19c6-491a-ae1c-708a35ceb56d",
   "metadata": {},
   "outputs": [],
   "source": []
  },
  {
   "cell_type": "code",
   "execution_count": null,
   "id": "b32294e2-f895-4610-8f76-a6c5f06837cd",
   "metadata": {},
   "outputs": [],
   "source": []
  },
  {
   "cell_type": "code",
   "execution_count": null,
   "id": "a066c302-3dd0-4a74-ad83-0bf8ae836c8d",
   "metadata": {},
   "outputs": [],
   "source": []
  }
 ],
 "metadata": {
  "kernelspec": {
   "display_name": "Python 3 (ipykernel)",
   "language": "python",
   "name": "python3"
  },
  "language_info": {
   "codemirror_mode": {
    "name": "ipython",
    "version": 3
   },
   "file_extension": ".py",
   "mimetype": "text/x-python",
   "name": "python",
   "nbconvert_exporter": "python",
   "pygments_lexer": "ipython3",
   "version": "3.12.4"
  }
 },
 "nbformat": 4,
 "nbformat_minor": 5
}
