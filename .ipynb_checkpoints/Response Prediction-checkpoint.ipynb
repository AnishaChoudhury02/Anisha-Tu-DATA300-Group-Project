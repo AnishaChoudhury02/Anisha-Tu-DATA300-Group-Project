{
 "cells": [
  {
   "cell_type": "markdown",
   "id": "2fe52bf5-8c0d-40ee-9f01-673107d0a38b",
   "metadata": {},
   "source": [
    "## PART 1: Data Processing"
   ]
  },
  {
   "cell_type": "markdown",
   "id": "15ce948f-de88-4f32-9605-ca60b7ec50ef",
   "metadata": {},
   "source": [
    "#### Load data"
   ]
  },
  {
   "cell_type": "code",
   "execution_count": 24,
   "id": "1ff29259-c935-426a-aec0-1e975a959264",
   "metadata": {},
   "outputs": [],
   "source": [
    "import pandas as pd"
   ]
  },
  {
   "cell_type": "markdown",
   "id": "c97f8962-3ce6-41c5-951d-1a666b0ddd23",
   "metadata": {},
   "source": [
    "#### Cleaning the dataset"
   ]
  },
  {
   "cell_type": "code",
   "execution_count": null,
   "id": "8acbbf4a-0801-49d1-b8f6-86621c25b4b6",
   "metadata": {},
   "outputs": [],
   "source": []
  },
  {
   "cell_type": "markdown",
   "id": "f281b670-0fac-44bc-8b25-d59e2c8db9bb",
   "metadata": {},
   "source": [
    "#### Normalizing income variable"
   ]
  },
  {
   "cell_type": "code",
   "execution_count": null,
   "id": "30d6ec73-c0f8-4d32-bbb7-2b6a8d522f0a",
   "metadata": {},
   "outputs": [],
   "source": []
  },
  {
   "cell_type": "markdown",
   "id": "01cef06a-eb04-4464-89a5-86a6f0a3ea97",
   "metadata": {},
   "source": [
    "#### Encoding categorical variables"
   ]
  },
  {
   "cell_type": "code",
   "execution_count": null,
   "id": "1f698b33-7c6e-4e2f-a530-700d089e9f83",
   "metadata": {},
   "outputs": [],
   "source": []
  },
  {
   "cell_type": "markdown",
   "id": "38ca699a-4bea-44fd-a97c-d770b7ad7199",
   "metadata": {},
   "source": [
    "## Part 2: Feature Selection"
   ]
  },
  {
   "cell_type": "markdown",
   "id": "144ecdd6-2297-4da0-83d3-c487510a5644",
   "metadata": {},
   "source": [
    "In this project, we want our features to be our customers' information (income, purchasing history, etc)."
   ]
  },
  {
   "cell_type": "markdown",
   "id": "8d9ba62b-6685-4213-a445-4ae761ff2ac3",
   "metadata": {},
   "source": [
    "#### Pairplot"
   ]
  },
  {
   "cell_type": "markdown",
   "id": "54d53218-914a-4a76-b123-c78770a12faa",
   "metadata": {},
   "source": []
  },
  {
   "cell_type": "markdown",
   "id": "38ba0a02-e96f-441b-8717-d06c42dd6222",
   "metadata": {},
   "source": [
    "#### Check for correlation"
   ]
  },
  {
   "cell_type": "code",
   "execution_count": null,
   "id": "fb1e8603-e171-48f9-9eef-a91f3176f35c",
   "metadata": {},
   "outputs": [],
   "source": []
  },
  {
   "cell_type": "markdown",
   "id": "329da656-e4ec-4be5-b59a-4503c5894562",
   "metadata": {},
   "source": [
    "#### Assign features and target variable"
   ]
  },
  {
   "cell_type": "code",
   "execution_count": null,
   "id": "05ebc339-d74b-459f-9ae0-c0e07afec401",
   "metadata": {},
   "outputs": [],
   "source": []
  },
  {
   "cell_type": "markdown",
   "id": "16cb0175-9dc5-4708-91d6-0d4f027befc4",
   "metadata": {},
   "source": [
    "## Part 3: Modelling"
   ]
  },
  {
   "cell_type": "markdown",
   "id": "9e5d2afe-00f1-4c4b-8c55-28c5a4b52ab9",
   "metadata": {},
   "source": [
    "#### Load necessary packages"
   ]
  },
  {
   "cell_type": "code",
   "execution_count": null,
   "id": "f807e233-ccba-41e1-a11a-012cdee9bbbc",
   "metadata": {},
   "outputs": [],
   "source": []
  },
  {
   "cell_type": "markdown",
   "id": "ccef4159-7a20-480e-9023-eb9cf972af50",
   "metadata": {},
   "source": [
    "#### - Logistic Regression"
   ]
  },
  {
   "cell_type": "code",
   "execution_count": null,
   "id": "0355ff96-0082-470c-8e02-e072aabd8da4",
   "metadata": {},
   "outputs": [],
   "source": []
  },
  {
   "cell_type": "markdown",
   "id": "7f4c52f9-ff52-4a26-957d-9f9d1f1ae9b1",
   "metadata": {},
   "source": [
    "#### - Random Forrest"
   ]
  },
  {
   "cell_type": "code",
   "execution_count": null,
   "id": "0d6d7bae-1df7-429d-8551-6b2946a775cf",
   "metadata": {},
   "outputs": [],
   "source": []
  },
  {
   "cell_type": "markdown",
   "id": "74a13179-281f-4c63-bf76-5b542ac965d2",
   "metadata": {},
   "source": [
    "#### - XGBoost"
   ]
  },
  {
   "cell_type": "code",
   "execution_count": null,
   "id": "643e9c4f-31a3-4877-808d-074ba4cb6c32",
   "metadata": {},
   "outputs": [],
   "source": []
  },
  {
   "cell_type": "markdown",
   "id": "447f53c0-1800-4b87-9606-ea14e8699775",
   "metadata": {},
   "source": [
    "## Part 4: Evaluation"
   ]
  },
  {
   "cell_type": "markdown",
   "id": "ff3ba0c9-1920-4840-bd8f-9657dd077302",
   "metadata": {},
   "source": [
    "#### Load necessary packages"
   ]
  },
  {
   "cell_type": "code",
   "execution_count": null,
   "id": "29bf7996-197a-48ff-b7e9-33d5d768bbaa",
   "metadata": {},
   "outputs": [],
   "source": []
  },
  {
   "cell_type": "code",
   "execution_count": null,
   "id": "b985861e-9c76-4b59-bcc8-a4989e8c9736",
   "metadata": {},
   "outputs": [],
   "source": []
  },
  {
   "cell_type": "markdown",
   "id": "140398cd-8e04-4bf0-bc9a-bd51675f247e",
   "metadata": {},
   "source": [
    "## Part 5: Hyperparameter Tuning"
   ]
  },
  {
   "cell_type": "markdown",
   "id": "ae9b64d3-b004-4462-a48b-591a8db7a976",
   "metadata": {},
   "source": [
    "#### Load necessary packages"
   ]
  },
  {
   "cell_type": "code",
   "execution_count": null,
   "id": "b10dec4e-1e3f-4375-ae68-5d911e65790d",
   "metadata": {},
   "outputs": [],
   "source": []
  },
  {
   "cell_type": "markdown",
   "id": "bc331baf-2fe7-4403-a431-1a4482c9c603",
   "metadata": {},
   "source": [
    "## Part 6: Interpretation"
   ]
  },
  {
   "cell_type": "code",
   "execution_count": null,
   "id": "f4f091e1-19c6-491a-ae1c-708a35ceb56d",
   "metadata": {},
   "outputs": [],
   "source": []
  },
  {
   "cell_type": "code",
   "execution_count": null,
   "id": "b32294e2-f895-4610-8f76-a6c5f06837cd",
   "metadata": {},
   "outputs": [],
   "source": []
  },
  {
   "cell_type": "code",
   "execution_count": null,
   "id": "a066c302-3dd0-4a74-ad83-0bf8ae836c8d",
   "metadata": {},
   "outputs": [],
   "source": []
  }
 ],
 "metadata": {
  "kernelspec": {
   "display_name": "Python 3 (ipykernel)",
   "language": "python",
   "name": "python3"
  },
  "language_info": {
   "codemirror_mode": {
    "name": "ipython",
    "version": 3
   },
   "file_extension": ".py",
   "mimetype": "text/x-python",
   "name": "python",
   "nbconvert_exporter": "python",
   "pygments_lexer": "ipython3",
   "version": "3.12.4"
  }
 },
 "nbformat": 4,
 "nbformat_minor": 5
}
